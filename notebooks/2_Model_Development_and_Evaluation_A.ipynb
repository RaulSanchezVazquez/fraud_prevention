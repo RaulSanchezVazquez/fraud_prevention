{
 "cells": [
  {
   "cell_type": "code",
   "execution_count": 28,
   "id": "d2abff0d",
   "metadata": {},
   "outputs": [
    {
     "name": "stdout",
     "output_type": "stream",
     "text": [
      "/Users/luis.sanchez/conekta/project\n"
     ]
    }
   ],
   "source": [
    "import os\n",
    "import sys\n",
    "import json\n",
    "import time\n",
    "import warnings\n",
    "\n",
    "warnings.filterwarnings('ignore')\n",
    "\n",
    "python_working_dir = !pwd\n",
    "package_path = '/'.join(python_working_dir[0].split('/')[:-1])\n",
    "print(package_path)\n",
    "\n",
    "sys.path.append(package_path)\n",
    "\n",
    "import pandas as pd\n",
    "\n",
    "from fraud_prevention import config\n",
    "from fraud_prevention.features import dataset\n",
    "from fraud_prevention.models import model_experiment\n",
    "from fraud_prevention.evaluation import threshold_table as threshold_table_module\n",
    "\n",
    "from sklearn.metrics import make_scorer, f1_score, roc_auc_score\n",
    "from sklearn.model_selection import GridSearchCV, cross_val_score"
   ]
  },
  {
   "cell_type": "code",
   "execution_count": 2,
   "id": "1a3e4fd4",
   "metadata": {},
   "outputs": [
    {
     "name": "stdout",
     "output_type": "stream",
     "text": [
      "logistic_regression\n",
      "{'model__C': [0.1, 1, 10], 'model__penalty': ['l1', 'l2'], 'model__solver': ['liblinear']}\n",
      "\n",
      "logistic_regression_SMOTE\n",
      "{'model__C': [0.1, 1, 10], 'model__penalty': ['l1', 'l2'], 'model__solver': ['liblinear']}\n",
      "\n",
      "lightgbm\n",
      "{'model__learning_rate': [0.01, 0.05], 'model__max_depth': [5, 10], 'model__colsample_bytree': [0.6], 'model__min_child_samples': [50], 'model__n_estimators': [1000], 'model__reg_alpha': [1], 'model__reg_lambda': [0]}\n",
      "\n",
      "lightgbm_SMOTE\n",
      "{'model__learning_rate': [0.01, 0.05], 'model__max_depth': [5, 10], 'model__colsample_bytree': [0.6], 'model__min_child_samples': [50], 'model__n_estimators': [1000], 'model__reg_alpha': [1], 'model__reg_lambda': [0]}\n",
      "\n"
     ]
    }
   ],
   "source": [
    "pipelines, param_grids = model_experiment.get_model_candidates()\n",
    "\n",
    "for model, grid in param_grids.items():\n",
    "    print(f\"{model}\\n{grid}\\n\")"
   ]
  },
  {
   "cell_type": "code",
   "execution_count": 3,
   "id": "3a64d86c",
   "metadata": {},
   "outputs": [
    {
     "data": {
      "text/html": [
       "<div>\n",
       "<style scoped>\n",
       "    .dataframe tbody tr th:only-of-type {\n",
       "        vertical-align: middle;\n",
       "    }\n",
       "\n",
       "    .dataframe tbody tr th {\n",
       "        vertical-align: top;\n",
       "    }\n",
       "\n",
       "    .dataframe thead th {\n",
       "        text-align: right;\n",
       "    }\n",
       "</style>\n",
       "<table border=\"1\" class=\"dataframe\">\n",
       "  <thead>\n",
       "    <tr style=\"text-align: right;\">\n",
       "      <th></th>\n",
       "      <th>size</th>\n",
       "      <th>pos_class</th>\n",
       "      <th>new_class</th>\n",
       "    </tr>\n",
       "    <tr>\n",
       "      <th>name</th>\n",
       "      <th></th>\n",
       "      <th></th>\n",
       "      <th></th>\n",
       "    </tr>\n",
       "  </thead>\n",
       "  <tbody>\n",
       "    <tr>\n",
       "      <th>train</th>\n",
       "      <td>126333</td>\n",
       "      <td>321</td>\n",
       "      <td>126012</td>\n",
       "    </tr>\n",
       "    <tr>\n",
       "      <th>val</th>\n",
       "      <td>54144</td>\n",
       "      <td>120</td>\n",
       "      <td>54024</td>\n",
       "    </tr>\n",
       "    <tr>\n",
       "      <th>test</th>\n",
       "      <td>28481</td>\n",
       "      <td>51</td>\n",
       "      <td>28430</td>\n",
       "    </tr>\n",
       "  </tbody>\n",
       "</table>\n",
       "</div>"
      ],
      "text/plain": [
       "         size  pos_class  new_class\n",
       "name                               \n",
       "train  126333        321     126012\n",
       "val     54144        120      54024\n",
       "test    28481         51      28430"
      ]
     },
     "execution_count": 3,
     "metadata": {},
     "output_type": "execute_result"
    }
   ],
   "source": [
    "(\n",
    "    X_train, X_test, X_val,\n",
    "    y_train, y_test, y_val,\n",
    "    w_train, w_test, w_val\n",
    ") = dataset.get(\n",
    "    test_size=0.1, \n",
    "    val_size=.3)\n",
    "\n",
    "pd.DataFrame([\n",
    "    {\n",
    "        \"name\": \"train\", \n",
    "        \"size\": X_train.shape[0], \n",
    "        \"pos_class\": (y_train == 1).sum(), \n",
    "        \"new_class\": (y_train == 0).sum()\n",
    "    },\n",
    "    {\n",
    "        \"name\": \"val\", \n",
    "        \"size\": X_val.shape[0], \n",
    "        \"pos_class\": (y_val == 1).sum(), \n",
    "        \"new_class\": (y_val == 0).sum()\n",
    "    },\n",
    "    {\n",
    "        \"name\": \"test\", \n",
    "        \"size\": X_test.shape[0], \n",
    "        \"pos_class\": (y_test == 1).sum(), \n",
    "        \"new_class\": (y_test == 0).sum()\n",
    "    }, \n",
    "]).set_index('name')"
   ]
  },
  {
   "cell_type": "code",
   "execution_count": 4,
   "id": "58ed3b3c",
   "metadata": {},
   "outputs": [
    {
     "name": "stdout",
     "output_type": "stream",
     "text": [
      "Training logistic_regression...\n",
      "Training logistic_regression_SMOTE...\n",
      "Training lightgbm...\n",
      "Training lightgbm_SMOTE...\n"
     ]
    }
   ],
   "source": [
    "# Scorer definitions\n",
    "f1_scorer = make_scorer(f1_score)\n",
    "roc_auc_scorer = make_scorer(roc_auc_score, needs_proba=True)\n",
    "\n",
    "# Train models with cross-validation and hyperparameter tuning\n",
    "results = {}\n",
    "for model_name, pipeline in pipelines.items():\n",
    "    start = time.time()\n",
    "    print(f\"Training {model_name}...\")\n",
    "    grid_search = GridSearchCV(\n",
    "        estimator=pipeline,\n",
    "        param_grid=param_grids[model_name],\n",
    "        scoring={'F1': f1_scorer, 'ROC_AUC': roc_auc_scorer},\n",
    "        refit='ROC_AUC',\n",
    "        cv=3,\n",
    "        n_jobs=-1\n",
    "    )\n",
    "    \n",
    "    if model_name in ['xgboost', 'lightgbm']:\n",
    "        grid_search.fit(\n",
    "            X_train,\n",
    "            y_train,\n",
    "            model__verbose=False,\n",
    "            model__eval_set=[(X_train, y_train), (X_val, y_val)],\n",
    "            model__early_stopping_rounds=10)\n",
    "    else:\n",
    "        grid_search.fit(\n",
    "            X_train,\n",
    "            y_train)\n",
    "        \n",
    "    end = time.time()\n",
    "\n",
    "    grid_search_elapsed_time = round((end - start) / 60, 2)\n",
    "    \n",
    "    # Best model and performance\n",
    "    best_model = grid_search.best_estimator_\n",
    "\n",
    "    results[model_name] = {\n",
    "        'f1_score': cross_val_score(\n",
    "                best_model,\n",
    "                X_test,\n",
    "                y_test,\n",
    "                scoring=f1_scorer,\n",
    "                cv=5\n",
    "            ).mean(),\n",
    "        'roc_auc': cross_val_score(\n",
    "                best_model,\n",
    "                X_test,\n",
    "                y_test,\n",
    "                scoring=roc_auc_scorer,\n",
    "                cv=5\n",
    "            ).mean(),\n",
    "        'elapsed_time': grid_search_elapsed_time,\n",
    "        'best_model': best_model,\n",
    "        'best_params': grid_search.best_params_\n",
    "    }"
   ]
  },
  {
   "cell_type": "code",
   "execution_count": 5,
   "id": "11cc3ada",
   "metadata": {},
   "outputs": [
    {
     "name": "stdout",
     "output_type": "stream",
     "text": [
      "Model: logistic_regression (0.62min)\n",
      "F1 Score: 0.5998\n",
      "ROC-AUC: 0.9738\n",
      "Best Parameters: {'model__C': 0.1, 'model__penalty': 'l2', 'model__solver': 'liblinear'}\n",
      "Model: logistic_regression_SMOTE (2.48min)\n",
      "F1 Score: 0.2794\n",
      "ROC-AUC: 0.9440\n",
      "Best Parameters: {'model__C': 1, 'model__penalty': 'l2', 'model__solver': 'liblinear'}\n",
      "Model: lightgbm (0.49min)\n",
      "F1 Score: 0.7456\n",
      "ROC-AUC: 0.9744\n",
      "Best Parameters: {'model__colsample_bytree': 0.6, 'model__learning_rate': 0.01, 'model__max_depth': 5, 'model__min_child_samples': 50, 'model__n_estimators': 1000, 'model__reg_alpha': 1, 'model__reg_lambda': 0}\n",
      "Model: lightgbm_SMOTE (1.57min)\n",
      "F1 Score: 0.7151\n",
      "ROC-AUC: 0.9761\n",
      "Best Parameters: {'model__colsample_bytree': 0.6, 'model__learning_rate': 0.01, 'model__max_depth': 10, 'model__min_child_samples': 50, 'model__n_estimators': 1000, 'model__reg_alpha': 1, 'model__reg_lambda': 0}\n"
     ]
    }
   ],
   "source": [
    "results_df = pd.DataFrame(results).T.sort_values('roc_auc')\n",
    "\n",
    "# Display results\n",
    "for model, result in results.items():\n",
    "    print(f\"Model: {model} ({result['elapsed_time']}min)\")\n",
    "    print(f\"F1 Score: {result['f1_score']:.4f}\")\n",
    "    print(f\"ROC-AUC: {result['roc_auc']:.4f}\")\n",
    "    print(f\"Best Parameters: {result['best_params']}\")"
   ]
  },
  {
   "cell_type": "code",
   "execution_count": 6,
   "id": "e94010e0",
   "metadata": {},
   "outputs": [
    {
     "name": "stdout",
     "output_type": "stream",
     "text": [
      "BEST MODEL: lightgbm_SMOTE\n"
     ]
    },
    {
     "data": {
      "text/plain": [
       "{'model__colsample_bytree': 0.6,\n",
       " 'model__learning_rate': 0.01,\n",
       " 'model__max_depth': 10,\n",
       " 'model__min_child_samples': 50,\n",
       " 'model__n_estimators': 1000,\n",
       " 'model__reg_alpha': 1,\n",
       " 'model__reg_lambda': 0}"
      ]
     },
     "execution_count": 6,
     "metadata": {},
     "output_type": "execute_result"
    }
   ],
   "source": [
    "print(f'BEST MODEL: {results_df.index[-1]}')\n",
    "\n",
    "results_df.iloc[-1]['best_params']"
   ]
  },
  {
   "cell_type": "markdown",
   "id": "2eb8a173",
   "metadata": {},
   "source": [
    "# Feature Importance"
   ]
  },
  {
   "cell_type": "code",
   "execution_count": null,
   "id": "ba7218a2",
   "metadata": {},
   "outputs": [
    {
     "name": "stderr",
     "output_type": "stream",
     "text": [
      " 46%|=========           | 2527/5492 [02:36<03:03]       "
     ]
    }
   ],
   "source": [
    "sample_size = 5_000\n",
    "\n",
    "X_shap = pd.concat([\n",
    "    data.query('y_true == 0').sample(sample_size),\n",
    "    data.query('y_true == 1')\n",
    "]).drop(columns=['name', 'y_score', 'y_true'])\n",
    "\n",
    "explainer = shap.Explainer(\n",
    "    best_model.steps[-1][-1],\n",
    "    X_shap)\n",
    "\n",
    "shap_values = explainer(\n",
    "    X_shap)\n",
    "\n",
    "X_shap.to_parquet(X_SHAP_VALUES_PATH)"
   ]
  },
  {
   "cell_type": "code",
   "execution_count": null,
   "id": "07791202",
   "metadata": {},
   "outputs": [],
   "source": [
    "shap.plots.beeswarm(\n",
    "    shap_values,\n",
    "    plot_size=(5, 12),\n",
    "    max_display=30)"
   ]
  },
  {
   "cell_type": "markdown",
   "id": "d75159d6",
   "metadata": {},
   "source": [
    "# Save model score"
   ]
  },
  {
   "cell_type": "code",
   "execution_count": null,
   "id": "20d039d5",
   "metadata": {},
   "outputs": [],
   "source": [
    "DATA_PATH = os.path.join(\n",
    "    config.PRJ_DIR,\n",
    "    'models/data.parquet')\n",
    "\n",
    "best_model = X['y_score'] = results_df.iloc[-1]['best_model']\n",
    "\n",
    "X_train['name'] = 'train'\n",
    "X_val['name'] = 'val'\n",
    "X_test['name'] = 'test'\n",
    "\n",
    "data = pd.concat([X_train, X_val, X_test])\n",
    "\n",
    "data['y_score'] = best_model.predict_proba(\n",
    "    data.drop(columns=['name'])\n",
    ")[:, 1]\n",
    "\n",
    "data['y_true'] = pd.concat([y_train, y_val, y_test])\n",
    "\n",
    "data.to_parquet(DATA_PATH)"
   ]
  }
 ],
 "metadata": {
  "kernelspec": {
   "display_name": "Python 3 (ipykernel)",
   "language": "python",
   "name": "python3"
  },
  "language_info": {
   "codemirror_mode": {
    "name": "ipython",
    "version": 3
   },
   "file_extension": ".py",
   "mimetype": "text/x-python",
   "name": "python",
   "nbconvert_exporter": "python",
   "pygments_lexer": "ipython3",
   "version": "3.8.18"
  }
 },
 "nbformat": 4,
 "nbformat_minor": 5
}
