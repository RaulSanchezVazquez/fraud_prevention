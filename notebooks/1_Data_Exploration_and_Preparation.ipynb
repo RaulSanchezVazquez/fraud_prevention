{
 "cells": [
  {
   "cell_type": "code",
   "execution_count": 1,
   "id": "5a0857b6",
   "metadata": {},
   "outputs": [
    {
     "name": "stdout",
     "output_type": "stream",
     "text": [
      "/Users/luis.sanchez/conekta/project\n"
     ]
    }
   ],
   "source": [
    "import os\n",
    "import sys\n",
    "\n",
    "python_working_dir = !pwd\n",
    "package_path = '/'.join(python_working_dir[0].split('/')[:-1])\n",
    "print(package_path)\n",
    "\n",
    "sys.path.append(package_path)\n",
    "\n",
    "import pandas as pd\n",
    "import matplotlib.pyplot as plt\n",
    "from mpl_toolkits.basemap import Basemap\n",
    "from fraud_prevention.features import creditcard\n",
    "from fraud_prevention.features import cc_transaction_features"
   ]
  },
  {
   "cell_type": "markdown",
   "id": "2bde2c62",
   "metadata": {},
   "source": [
    "# Add synthetic data\n",
    "\n",
    "Add synthetic data to the original dataset:\n",
    "- Credit card number\n",
    "- Geologations\n",
    "- Grouping transactions to compose credit card historic records"
   ]
  },
  {
   "cell_type": "code",
   "execution_count": 3,
   "id": "1e706052",
   "metadata": {},
   "outputs": [
    {
     "name": "stderr",
     "output_type": "stream",
     "text": [
      "100%|████████████████████████████████████████████████████████████████████████████████████████████████████████████████████████████████████████████████████████████████████████████████████████████████████████████████████████████████| 284807/284807 [00:28<00:00, 10108.93it/s]\n"
     ]
    }
   ],
   "source": [
    "creditcard.process()"
   ]
  },
  {
   "cell_type": "markdown",
   "id": "245adca0",
   "metadata": {},
   "source": [
    "# Compute historical features\n",
    "\n",
    "- Time since previous transaction\n",
    "- Delta distance from the current geolocation transaction and the previous geolocation transaction"
   ]
  },
  {
   "cell_type": "code",
   "execution_count": 2,
   "id": "f4e5b336",
   "metadata": {},
   "outputs": [
    {
     "name": "stderr",
     "output_type": "stream",
     "text": [
      "100%|██████████████████████████████████████████████████████████████████████████████████████████████████████████████████████████████████████████████████████████████████████████████████████████████████████████████████████████████████████| 9265/9265 [00:26<00:00, 355.07it/s]\n"
     ]
    }
   ],
   "source": [
    "cc_transaction_features.process()"
   ]
  },
  {
   "cell_type": "code",
   "execution_count": 3,
   "id": "2f579aa1",
   "metadata": {},
   "outputs": [],
   "source": [
    "data = cc_transaction_features.get()"
   ]
  },
  {
   "cell_type": "markdown",
   "id": "50dff7ee",
   "metadata": {},
   "source": [
    "# Features Explanation "
   ]
  },
  {
   "cell_type": "code",
   "execution_count": 38,
   "id": "a68a6055",
   "metadata": {},
   "outputs": [
    {
     "data": {
      "text/html": [
       "<div>\n",
       "<style scoped>\n",
       "    .dataframe tbody tr th:only-of-type {\n",
       "        vertical-align: middle;\n",
       "    }\n",
       "\n",
       "    .dataframe tbody tr th {\n",
       "        vertical-align: top;\n",
       "    }\n",
       "\n",
       "    .dataframe thead th {\n",
       "        text-align: right;\n",
       "    }\n",
       "</style>\n",
       "<table border=\"1\" class=\"dataframe\">\n",
       "  <thead>\n",
       "    <tr style=\"text-align: right;\">\n",
       "      <th></th>\n",
       "      <th>timestamp</th>\n",
       "      <th>time_prev_transaction</th>\n",
       "      <th>Class</th>\n",
       "    </tr>\n",
       "  </thead>\n",
       "  <tbody>\n",
       "    <tr>\n",
       "      <th>9113</th>\n",
       "      <td>35906.0</td>\n",
       "      <td>NaN</td>\n",
       "      <td>1</td>\n",
       "    </tr>\n",
       "    <tr>\n",
       "      <th>7803</th>\n",
       "      <td>35966.0</td>\n",
       "      <td>60.0</td>\n",
       "      <td>0</td>\n",
       "    </tr>\n",
       "  </tbody>\n",
       "</table>\n",
       "</div>"
      ],
      "text/plain": [
       "      timestamp  time_prev_transaction  Class\n",
       "9113    35906.0                    NaN      1\n",
       "7803    35966.0                   60.0      0"
      ]
     },
     "execution_count": 38,
     "metadata": {},
     "output_type": "execute_result"
    }
   ],
   "source": [
    "credit_card_number = pd.DataFrame({\n",
    "    \"transactions_count\": data['credit_card_number'].value_counts(),\n",
    "    \"fraud_counts\": data.query('Class == 1')['credit_card_number'].value_counts()\n",
    "}).query(\n",
    "    '(transactions_count > 1) & '\n",
    "    '(fraud_counts > 0)'\n",
    ").sort_values('transactions_count').index[-1]\n",
    "\n",
    "data[\n",
    "    data['credit_card_number'] == credit_card_number\n",
    "].sort_values('timestamp')[[\n",
    "    'timestamp',\n",
    "    'time_prev_transaction',\n",
    "    'Class'\n",
    "]]"
   ]
  },
  {
   "cell_type": "code",
   "execution_count": 35,
   "id": "6f396824",
   "metadata": {},
   "outputs": [
    {
     "data": {
      "text/html": [
       "<div>\n",
       "<style scoped>\n",
       "    .dataframe tbody tr th:only-of-type {\n",
       "        vertical-align: middle;\n",
       "    }\n",
       "\n",
       "    .dataframe tbody tr th {\n",
       "        vertical-align: top;\n",
       "    }\n",
       "\n",
       "    .dataframe thead th {\n",
       "        text-align: right;\n",
       "    }\n",
       "</style>\n",
       "<table border=\"1\" class=\"dataframe\">\n",
       "  <thead>\n",
       "    <tr style=\"text-align: right;\">\n",
       "      <th></th>\n",
       "      <th>latitude</th>\n",
       "      <th>longitude</th>\n",
       "      <th>km_dist_prev_transaction</th>\n",
       "      <th>Class</th>\n",
       "    </tr>\n",
       "  </thead>\n",
       "  <tbody>\n",
       "    <tr>\n",
       "      <th>9113</th>\n",
       "      <td>50.71229</td>\n",
       "      <td>4.52529</td>\n",
       "      <td>NaN</td>\n",
       "      <td>1</td>\n",
       "    </tr>\n",
       "    <tr>\n",
       "      <th>7803</th>\n",
       "      <td>46.13510</td>\n",
       "      <td>-60.18310</td>\n",
       "      <td>4661.64487</td>\n",
       "      <td>0</td>\n",
       "    </tr>\n",
       "  </tbody>\n",
       "</table>\n",
       "</div>"
      ],
      "text/plain": [
       "      latitude  longitude  km_dist_prev_transaction  Class\n",
       "9113  50.71229    4.52529                       NaN      1\n",
       "7803  46.13510  -60.18310                4661.64487      0"
      ]
     },
     "execution_count": 35,
     "metadata": {},
     "output_type": "execute_result"
    }
   ],
   "source": [
    "credit_card_number = pd.DataFrame({\n",
    "    \"transactions_count\": data['credit_card_number'].value_counts(),\n",
    "    \"fraud_counts\": data.query('Class == 1')['credit_card_number'].value_counts()\n",
    "}).query(\n",
    "    '(transactions_count > 1) & '\n",
    "    '(fraud_counts > 0)'\n",
    ").sort_values('transactions_count').index[-1]\n",
    "\n",
    "data[\n",
    "    data['credit_card_number'] == credit_card_number\n",
    "].sort_values('timestamp')[[\n",
    "    'latitude',\n",
    "    'longitude',\n",
    "    'km_dist_prev_transaction',\n",
    "    'Class'\n",
    "]]"
   ]
  },
  {
   "cell_type": "code",
   "execution_count": null,
   "id": "cc660097",
   "metadata": {},
   "outputs": [],
   "source": [
    "cc_avg_transactions = data.groupby(\n",
    "    'credit_card_number'\n",
    ").size().mean()\n",
    "\n",
    "class_and_color = zip([0, 1], ['green', 'red'])\n",
    "data_plot = {}\n",
    "for (cls, color) in class_and_color:\n",
    "    cls_name = 'Fraudsters' if cls == 1 else 'NonFraudster'\n",
    "    data_plot[cls_name] = (\n",
    "        data[\n",
    "            data['Class'] == cls\n",
    "        ].groupby('credit_card_number').size()\n",
    "    ).value_counts().sort_index()\n",
    "\n",
    "fig, ax = plt.subplots(1, 1, figsize=(5, 3))\n",
    "data_plot = pd.DataFrame(data_plot)\n",
    "(data_plot / data_plot.sum()).plot(\n",
    "    kind='bar',\n",
    "    ax=ax,\n",
    "    color=['green', 'red'])\n",
    "ax.set_title(\n",
    "    'Number of transactions per credit card\\n'\n",
    "    f'Avg. transactions per CC: {round(cc_avg_transactions, 2)}'\n",
    ")\n",
    "ax.set_ylabel('% Credit Cards')\n",
    "ax.set_xlabel('# transactions');"
   ]
  },
  {
   "cell_type": "code",
   "execution_count": null,
   "id": "4af8a097",
   "metadata": {},
   "outputs": [],
   "source": [
    "amount_means = data.groupby(\n",
    "    'credit_card_number'\n",
    ")['Amount'].mean().mean()\n",
    "\n",
    "class_and_color = zip([0, 1], ['green', 'red'])\n",
    "amounts = {}\n",
    "for (cls, color) in class_and_color:\n",
    "    cls_name = 'Fraudsters' if cls == 1 else 'NonFraudster'\n",
    "    data_plot = data[\n",
    "        data['Class'] == cls\n",
    "    ].groupby(\n",
    "        'credit_card_number'\n",
    "    )['Amount'].mean()\n",
    "    data_plot.name = f'{cls_name} Amount Avg'\n",
    "\n",
    "    amounts[cls_name] = data_plot.apply(\n",
    "        lambda x: x - (x % 25)\n",
    "    ).clip(0, 500).value_counts()\n",
    "\n",
    "amounts = pd.DataFrame(amounts)\n",
    "amounts = amounts / amounts.sum()\n",
    "\n",
    "fig, ax = plt.subplots(1, 1, figsize=(5, 3))\n",
    "amounts.plot(\n",
    "    kind='bar', ax=ax, legend=True, color=['green', 'red'])\n",
    "ax.set_ylabel('% CC')\n",
    "ax.set_xlabel('Amount')\n",
    "ax.set_title(\n",
    "    'Avg. Credit Card Amounts\\n'\n",
    "    f'Avg. Amount per CC: {round(amount_means, 2)}');"
   ]
  },
  {
   "cell_type": "code",
   "execution_count": null,
   "id": "873bd374",
   "metadata": {},
   "outputs": [],
   "source": [
    "import random\n",
    "\n",
    "# Create a new figure\n",
    "plt.figure(figsize=(12, 8))\n",
    "\n",
    "# Create a basemap instance for the whole world\n",
    "m = Basemap(\n",
    "    projection='mill', \n",
    "    llcrnrlat=-60, \n",
    "    urcrnrlat=90,\n",
    "    llcrnrlon=-180, \n",
    "    urcrnrlon=180, \n",
    "    resolution='c')\n",
    "\n",
    "# Draw coastlines and country boundaries\n",
    "m.drawcoastlines()\n",
    "m.drawcountries()\n",
    "\n",
    "for cls, data_sample in data.groupby('Class'):\n",
    "    cls_name = 'Fraudsters' if cls == 1 else 'NonFraudster'\n",
    "    if len(data_sample) > 400:\n",
    "        data_sample = data_sample.sample(400)\n",
    "\n",
    "    lats = data_sample['latitude'].astype(float).apply(\n",
    "        lambda x: x * (\n",
    "            1 + (.01 * random.choice(list(range(0, 15))))\n",
    "        )\n",
    "    ).astype(float).tolist()\n",
    "\n",
    "    lons = data_sample['longitude'].astype(float).apply(\n",
    "        lambda x: x * (\n",
    "            1 + (.01 * random.choice(list(range(0, 15))))\n",
    "        )\n",
    "    ).astype(float).tolist()\n",
    "    \n",
    "    x, y = m(lons, lats)\n",
    "    data_sample['x'] = x\n",
    "    data_sample['y'] = y\n",
    "    \n",
    "    if cls == 1:\n",
    "        color = 'red'\n",
    "        alpha = .5\n",
    "    else:\n",
    "        color = 'green'\n",
    "        alpha = .5\n",
    "\n",
    "    m.scatter(\n",
    "        x, y, color=color, marker='o', s=10, zorder=5, label=cls_name, alpha=alpha)\n",
    "\n",
    "# Add a title and legend\n",
    "plt.title(\"Geolocations\", fontsize=16)\n",
    "plt.legend(loc='lower left')\n",
    "\n",
    "# Show the plot\n",
    "plt.show()"
   ]
  },
  {
   "cell_type": "code",
   "execution_count": null,
   "id": "2a987ff2",
   "metadata": {},
   "outputs": [],
   "source": [
    "class_and_color = zip([0, 1], ['green', 'red'])\n",
    "prev_time = {}\n",
    "for (cls, color) in class_and_color:\n",
    "    cls_name = 'Fraudsters' if cls == 1 else 'NonFraudster'\n",
    "    data_plot = data[\n",
    "        data['Class'] == cls\n",
    "    ]['time_prev_transaction'].apply(\n",
    "        lambda x: x - (x % 5)\n",
    "    ).value_counts()\n",
    "    data_plot.name = f'{cls_name} Time prev. transaction'\n",
    "\n",
    "    prev_time[cls_name] = data_plot\n",
    "\n",
    "prev_times = pd.DataFrame(prev_time)\n",
    "data_plot = (prev_times / prev_times.sum())\n",
    "\n",
    "fig, ax = plt.subplots(1, 1, figsize=(5, 3))\n",
    "data_plot.plot(\n",
    "    kind='bar', ax=ax, legend=True, color=['green', 'red'])\n",
    "ax.set_ylabel('% CC')\n",
    "ax.set_xlabel('Minutes')\n",
    "ax.set_title(\n",
    "    'Minutes between transactions');"
   ]
  },
  {
   "cell_type": "code",
   "execution_count": null,
   "id": "229600d3",
   "metadata": {},
   "outputs": [],
   "source": [
    "class_and_color = zip([0, 1], ['green', 'red'])\n",
    "prev_time = {}\n",
    "for (cls, color) in class_and_color:\n",
    "    cls_name = 'Fraudsters' if cls == 1 else 'NonFraudster'\n",
    "    data_plot = data[\n",
    "        data['Class'] == cls\n",
    "    ]['km_dist_prev_transaction'].apply(\n",
    "        lambda x: x - (x % 500)\n",
    "    ).value_counts()\n",
    "    data_plot.name = f'{cls_name} Time prev. transaction'\n",
    "\n",
    "    prev_time[cls_name] = data_plot\n",
    "\n",
    "prev_times = pd.DataFrame(prev_time)\n",
    "data_plot = (prev_times / prev_times.sum())\n",
    "\n",
    "fig, ax = plt.subplots(1, 1, figsize=(5, 3))\n",
    "data_plot.plot(\n",
    "    kind='bar', ax=ax, legend=True, color=['green', 'red'])\n",
    "\n",
    "ax.set_ylabel('% CC')\n",
    "ax.set_xlabel('Km')\n",
    "ax.set_title(\n",
    "    'Kilometers distance between geolocation');"
   ]
  },
  {
   "cell_type": "code",
   "execution_count": null,
   "id": "a36d7a6c",
   "metadata": {},
   "outputs": [],
   "source": []
  }
 ],
 "metadata": {
  "kernelspec": {
   "display_name": "Python 3 (ipykernel)",
   "language": "python",
   "name": "python3"
  },
  "language_info": {
   "codemirror_mode": {
    "name": "ipython",
    "version": 3
   },
   "file_extension": ".py",
   "mimetype": "text/x-python",
   "name": "python",
   "nbconvert_exporter": "python",
   "pygments_lexer": "ipython3",
   "version": "3.8.18"
  }
 },
 "nbformat": 4,
 "nbformat_minor": 5
}
